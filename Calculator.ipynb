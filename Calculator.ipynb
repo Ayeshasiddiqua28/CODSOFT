{
 "cells": [
  {
   "cell_type": "code",
   "execution_count": 2,
   "id": "bff81d4c-7a82-4511-b792-8c008c6cd451",
   "metadata": {},
   "outputs": [
    {
     "name": "stdout",
     "output_type": "stream",
     "text": [
      "Select Operation:\n",
      "1.Addition\n",
      "2.Subtraction\n",
      "3.Multiplication\n",
      "4.Division\n"
     ]
    },
    {
     "name": "stdin",
     "output_type": "stream",
     "text": [
      "Enter your choice(1/2/3/4):  1\n",
      "Enter the first number:  3213\n",
      "Enter the second number:  34534\n"
     ]
    },
    {
     "name": "stdout",
     "output_type": "stream",
     "text": [
      "3213.0 + 34534.0 = 37747.0\n"
     ]
    },
    {
     "name": "stdin",
     "output_type": "stream",
     "text": [
      "Do you want to do next calculation? (Yes/No):  Yes\n",
      "Enter your choice(1/2/3/4):  4\n",
      "Enter the first number:  343\n",
      "Enter the second number:  54\n"
     ]
    },
    {
     "name": "stdout",
     "output_type": "stream",
     "text": [
      "343.0 / 54.0 = 6.351851851851852\n"
     ]
    },
    {
     "name": "stdin",
     "output_type": "stream",
     "text": [
      "Do you want to do next calculation? (Yes/No):  No\n"
     ]
    }
   ],
   "source": [
    "# This function adds two numbers\n",
    "def addition(x, y):\n",
    "    return x + y\n",
    "\n",
    "# This function subtracts two numbers\n",
    "def subtraction(x, y):\n",
    "    return x - y\n",
    "\n",
    "# This function multiplies two numbers\n",
    "def multiplication(x, y):\n",
    "    return x * y\n",
    "\n",
    "# This function divides two numbers\n",
    "def division(x, y):\n",
    "    return x / y\n",
    "\n",
    "\n",
    "print(\"Select Operation:\")\n",
    "print(\"1.Addition\")\n",
    "print(\"2.Subtraction\")\n",
    "print(\"3.Multiplication\")\n",
    "print(\"4.Division\")\n",
    "\n",
    "while True:\n",
    "# take input from the user\n",
    "    choice = input(\"Enter your choice(1/2/3/4): \")\n",
    "\n",
    "# check if choice is one of the four options\n",
    "    if choice in ('1', '2', '3', '4'):\n",
    "        try:\n",
    "# Attempt to get the first and second number from the user and convert it to a float\n",
    "            num1 = float(input(\"Enter the first number: \"))\n",
    "            num2 = float(input(\"Enter the second number: \"))\n",
    "        except ValueError:  # Handle the case where the user enters a non-numeric input\n",
    "            print(\"Invalid input. Please enter a number.\")\n",
    "            continue  # Continue to the next iteration of the loop\n",
    "            \n",
    "# Based on the user's choice, perform the corresponding operation and display the result\n",
    "        if choice == '1':\n",
    "            print(num1, \"+\", num2, \"=\", addition(num1, num2))\n",
    "\n",
    "        elif choice == '2':\n",
    "            print(num1, \"-\", num2, \"=\", subtraction(num1, num2))\n",
    "\n",
    "        elif choice == '3':\n",
    "            print(num1, \"*\", num2, \"=\", multiplication(num1, num2))\n",
    "\n",
    "        elif choice == '4':\n",
    "            print(num1, \"/\", num2, \"=\", division(num1, num2))\n",
    "        \n",
    "# check if user wants another calculation\n",
    "# break the while loop to exit if the answer is 'no'\n",
    "        next_calculation = input(\"Do you want to do next calculation? (Yes/No): \")\n",
    "        if next_calculation == \"No\":\n",
    "            break\n",
    "    else:   # Handle the case where the user's choice is not one of the valid options\n",
    "        print(\"Invalid Input\")\n"
   ]
  },
  {
   "cell_type": "code",
   "execution_count": null,
   "id": "5903c29c-228b-4bf0-b703-2705d85c384d",
   "metadata": {},
   "outputs": [],
   "source": []
  }
 ],
 "metadata": {
  "kernelspec": {
   "display_name": "Python 3 (ipykernel)",
   "language": "python",
   "name": "python3"
  },
  "language_info": {
   "codemirror_mode": {
    "name": "ipython",
    "version": 3
   },
   "file_extension": ".py",
   "mimetype": "text/x-python",
   "name": "python",
   "nbconvert_exporter": "python",
   "pygments_lexer": "ipython3",
   "version": "3.10.7"
  }
 },
 "nbformat": 4,
 "nbformat_minor": 5
}
